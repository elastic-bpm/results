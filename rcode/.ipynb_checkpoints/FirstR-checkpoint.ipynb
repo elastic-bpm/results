{
 "cells": [
  {
   "cell_type": "code",
   "execution_count": 1,
   "metadata": {
    "collapsed": false,
    "nbpresent": {
     "id": "8eaa0028-0e1d-461d-80af-dca4f213ba09"
    }
   },
   "outputs": [],
   "source": [
    "library(jsonlite)"
   ]
  },
  {
   "cell_type": "code",
   "execution_count": 2,
   "metadata": {
    "collapsed": true,
    "nbpresent": {
     "id": "31af34a4-5530-48a5-9f97-acdd9bb92b31"
    }
   },
   "outputs": [],
   "source": [
    "setwd(\"C:/Users/Johannes/Projects/results/output/20161218\")\n",
    "jsonData <- fromJSON(\"20161218-logstash.json\", flatten = TRUE)"
   ]
  },
  {
   "cell_type": "code",
   "execution_count": 3,
   "metadata": {
    "collapsed": false,
    "nbpresent": {
     "id": "874f6fd2-1341-4787-ba0f-6cebcea7f1c8"
    },
    "scrolled": true
   },
   "outputs": [
    {
     "name": "stdout",
     "output_type": "stream",
     "text": [
      "               _index _type                  _id _score         sort\n",
      "1 logstash-2016.12.18  logs AVkR139EbpknfgCFxFy4     NA 1.482063e+12\n",
      "2 logstash-2016.12.18  logs AVkR139NbpknfgCFxFy5     NA 1.482063e+12\n",
      "3 logstash-2016.12.18  logs AVkR13WMbpknfgCFxFyH     NA 1.482063e+12\n",
      "4 logstash-2016.12.18  logs AVkR13WMbpknfgCFxFyG     NA 1.482063e+12\n",
      "5 logstash-2016.12.18  logs AVkR13WMbpknfgCFxFyE     NA 1.482063e+12\n",
      "6 logstash-2016.12.18  logs AVkR13WMbpknfgCFxFyF     NA 1.482063e+12\n",
      "  _source.source_host _source.level                _source.created\n",
      "1       40.68.164.185             6 2016-12-18T12:10:35.454949019Z\n",
      "2       40.68.164.185             6 2016-12-18T12:10:35.058709599Z\n",
      "3       40.68.164.185             6 2016-12-18T12:10:35.528087556Z\n",
      "4       40.68.164.185             6 2016-12-18T12:10:35.528087556Z\n",
      "5       40.68.164.185             3 2016-12-18T12:10:35.058709599Z\n",
      "6       40.68.164.185             6 2016-12-18T12:10:35.528087556Z\n",
      "                                                      _source.message\n",
      "1                                        worker:ready Worker started.\n",
      "2                                        worker:ready Worker started.\n",
      "3                                                                <NA>\n",
      "4                                                       > node app.js\n",
      "5 npm info lifecycle elastic-worker@1.0.0~start: elastic-worker@1.0.0\n",
      "6                           > elastic-worker@1.0.0 start /usr/src/app\n",
      "  _source.version _source.command _source.tags             _source.image_name\n",
      "1             1.1       npm start         NULL djbnjack/elastic-worker:latest\n",
      "2             1.1       npm start         NULL djbnjack/elastic-worker:latest\n",
      "3             1.1       npm start         NULL djbnjack/elastic-worker:latest\n",
      "4             1.1       npm start         NULL djbnjack/elastic-worker:latest\n",
      "5             1.1       npm start         NULL djbnjack/elastic-worker:latest\n",
      "6             1.1       npm start         NULL djbnjack/elastic-worker:latest\n",
      "        _source.@timestamp                       _source.container_name\n",
      "1 2016-12-18T12:10:52.628Z  elastic-workers.7.614ldil5k7w0bahkgkmi3ncx4\n",
      "2 2016-12-18T12:10:52.486Z elastic-workers.41.b93a0xuk5vbw0540rqu3gjlza\n",
      "3 2016-12-18T12:10:50.141Z elastic-workers.11.2y9axe7110ubv3j11fpmpya68\n",
      "4 2016-12-18T12:10:50.140Z elastic-workers.11.2y9axe7110ubv3j11fpmpya68\n",
      "5 2016-12-18T12:10:50.131Z elastic-workers.41.b93a0xuk5vbw0540rqu3gjlza\n",
      "6 2016-12-18T12:10:50.131Z elastic-workers.11.2y9axe7110ubv3j11fpmpya68\n",
      "  _source.host _source.@version _source.tag\n",
      "1      node-06                1            \n",
      "2      node-06                1            \n",
      "3      node-06                1            \n",
      "4      node-06                1            \n",
      "5      node-06                1            \n",
      "6      node-06                1            \n",
      "                                                         _source.image_id\n",
      "1 sha256:82850a5886f9bde2fef20e81e7e9339d65796066bd246b856375ce8dedffd90b\n",
      "2 sha256:82850a5886f9bde2fef20e81e7e9339d65796066bd246b856375ce8dedffd90b\n",
      "3 sha256:82850a5886f9bde2fef20e81e7e9339d65796066bd246b856375ce8dedffd90b\n",
      "4 sha256:82850a5886f9bde2fef20e81e7e9339d65796066bd246b856375ce8dedffd90b\n",
      "5 sha256:82850a5886f9bde2fef20e81e7e9339d65796066bd246b856375ce8dedffd90b\n",
      "6 sha256:82850a5886f9bde2fef20e81e7e9339d65796066bd246b856375ce8dedffd90b\n",
      "                                              _source.container_id\n",
      "1 1c00dc95b1e8fb17b98836d076236c37d6978ffef5b4c207b9824d8aeadde34d\n",
      "2 db265d4d66b7cd561934b23ae597974d0aa9b28f54c7ff4267d68b4ff439287f\n",
      "3 e20a08f6bea03a3a90d1589ef89f565b38232f8256e21c09808c57e362ff0055\n",
      "4 e20a08f6bea03a3a90d1589ef89f565b38232f8256e21c09808c57e362ff0055\n",
      "5 db265d4d66b7cd561934b23ae597974d0aa9b28f54c7ff4267d68b4ff439287f\n",
      "6 e20a08f6bea03a3a90d1589ef89f565b38232f8256e21c09808c57e362ff0055\n",
      "  _source.short_message fields.created fields.@timestamp\n",
      "1                  <NA>   1.482063e+12      1.482063e+12\n",
      "2                  <NA>   1.482063e+12      1.482063e+12\n",
      "3                         1.482063e+12      1.482063e+12\n",
      "4                  <NA>   1.482063e+12      1.482063e+12\n",
      "5                  <NA>   1.482063e+12      1.482063e+12\n",
      "6                  <NA>   1.482063e+12      1.482063e+12\n"
     ]
    }
   ],
   "source": [
    "print(head(jsonData))"
   ]
  },
  {
   "cell_type": "code",
   "execution_count": 5,
   "metadata": {
    "collapsed": false
   },
   "outputs": [
    {
     "data": {
      "text/html": [
       "<ol class=list-inline>\n",
       "\t<li>'_index'</li>\n",
       "\t<li>'_type'</li>\n",
       "\t<li>'_id'</li>\n",
       "\t<li>'_score'</li>\n",
       "\t<li>'sort'</li>\n",
       "\t<li>'_source.source_host'</li>\n",
       "\t<li>'_source.level'</li>\n",
       "\t<li>'_source.created'</li>\n",
       "\t<li>'_source.message'</li>\n",
       "\t<li>'_source.version'</li>\n",
       "\t<li>'_source.command'</li>\n",
       "\t<li>'_source.tags'</li>\n",
       "\t<li>'_source.image_name'</li>\n",
       "\t<li>'_source.@timestamp'</li>\n",
       "\t<li>'_source.container_name'</li>\n",
       "\t<li>'_source.host'</li>\n",
       "\t<li>'_source.@version'</li>\n",
       "\t<li>'_source.tag'</li>\n",
       "\t<li>'_source.image_id'</li>\n",
       "\t<li>'_source.container_id'</li>\n",
       "\t<li>'_source.short_message'</li>\n",
       "\t<li>'fields.created'</li>\n",
       "\t<li>'fields.@timestamp'</li>\n",
       "</ol>\n"
      ],
      "text/latex": [
       "\\begin{enumerate*}\n",
       "\\item '\\_index'\n",
       "\\item '\\_type'\n",
       "\\item '\\_id'\n",
       "\\item '\\_score'\n",
       "\\item 'sort'\n",
       "\\item '\\_source.source\\_host'\n",
       "\\item '\\_source.level'\n",
       "\\item '\\_source.created'\n",
       "\\item '\\_source.message'\n",
       "\\item '\\_source.version'\n",
       "\\item '\\_source.command'\n",
       "\\item '\\_source.tags'\n",
       "\\item '\\_source.image\\_name'\n",
       "\\item '\\_source.@timestamp'\n",
       "\\item '\\_source.container\\_name'\n",
       "\\item '\\_source.host'\n",
       "\\item '\\_source.@version'\n",
       "\\item '\\_source.tag'\n",
       "\\item '\\_source.image\\_id'\n",
       "\\item '\\_source.container\\_id'\n",
       "\\item '\\_source.short\\_message'\n",
       "\\item 'fields.created'\n",
       "\\item 'fields.@timestamp'\n",
       "\\end{enumerate*}\n"
      ],
      "text/markdown": [
       "1. '_index'\n",
       "2. '_type'\n",
       "3. '_id'\n",
       "4. '_score'\n",
       "5. 'sort'\n",
       "6. '_source.source_host'\n",
       "7. '_source.level'\n",
       "8. '_source.created'\n",
       "9. '_source.message'\n",
       "10. '_source.version'\n",
       "11. '_source.command'\n",
       "12. '_source.tags'\n",
       "13. '_source.image_name'\n",
       "14. '_source.@timestamp'\n",
       "15. '_source.container_name'\n",
       "16. '_source.host'\n",
       "17. '_source.@version'\n",
       "18. '_source.tag'\n",
       "19. '_source.image_id'\n",
       "20. '_source.container_id'\n",
       "21. '_source.short_message'\n",
       "22. 'fields.created'\n",
       "23. 'fields.@timestamp'\n",
       "\n",
       "\n"
      ],
      "text/plain": [
       " [1] \"_index\"                 \"_type\"                  \"_id\"                   \n",
       " [4] \"_score\"                 \"sort\"                   \"_source.source_host\"   \n",
       " [7] \"_source.level\"          \"_source.created\"        \"_source.message\"       \n",
       "[10] \"_source.version\"        \"_source.command\"        \"_source.tags\"          \n",
       "[13] \"_source.image_name\"     \"_source.@timestamp\"     \"_source.container_name\"\n",
       "[16] \"_source.host\"           \"_source.@version\"       \"_source.tag\"           \n",
       "[19] \"_source.image_id\"       \"_source.container_id\"   \"_source.short_message\" \n",
       "[22] \"fields.created\"         \"fields.@timestamp\"     "
      ]
     },
     "metadata": {},
     "output_type": "display_data"
    }
   ],
   "source": [
    "colnames(jsonData)"
   ]
  },
  {
   "cell_type": "code",
   "execution_count": 9,
   "metadata": {
    "collapsed": false
   },
   "outputs": [
    {
     "data": {
      "text/html": [
       "<table>\n",
       "<thead><tr><th scope=col>_source.created</th><th scope=col>_source.message</th></tr></thead>\n",
       "<tbody>\n",
       "\t<tr><td>2016-12-18T12:10:35.454949019Z                                     </td><td>worker:ready Worker started.                                       </td></tr>\n",
       "\t<tr><td>2016-12-18T12:10:35.058709599Z                                     </td><td>worker:ready Worker started.                                       </td></tr>\n",
       "\t<tr><td>2016-12-18T12:10:35.528087556Z                                     </td><td>NA                                                                 </td></tr>\n",
       "\t<tr><td>2016-12-18T12:10:35.528087556Z                                                                                </td><td><span style=white-space:pre-wrap>&gt; node app.js                                                      </span></td></tr>\n",
       "\t<tr><td>2016-12-18T12:10:35.058709599Z                                     </td><td>npm info lifecycle elastic-worker@1.0.0~start: elastic-worker@1.0.0</td></tr>\n",
       "\t<tr><td>2016-12-18T12:10:35.528087556Z                                                                                </td><td><span style=white-space:pre-wrap>&gt; elastic-worker@1.0.0 start /usr/src/app                          </span></td></tr>\n",
       "</tbody>\n",
       "</table>\n"
      ],
      "text/latex": [
       "\\begin{tabular}{r|ll}\n",
       " \\_source.created & \\_source.message\\\\\n",
       "\\hline\n",
       "\t 2016-12-18T12:10:35.454949019Z                                      & worker:ready Worker started.                                       \\\\\n",
       "\t 2016-12-18T12:10:35.058709599Z                                      & worker:ready Worker started.                                       \\\\\n",
       "\t 2016-12-18T12:10:35.528087556Z                                      & NA                                                                 \\\\\n",
       "\t 2016-12-18T12:10:35.528087556Z                                      & > node app.js                                                      \\\\\n",
       "\t 2016-12-18T12:10:35.058709599Z                                                       & npm info lifecycle elastic-worker@1.0.0\\textasciitilde{}start: elastic-worker@1.0.0\\\\\n",
       "\t 2016-12-18T12:10:35.528087556Z                                      & > elastic-worker@1.0.0 start /usr/src/app                          \\\\\n",
       "\\end{tabular}\n"
      ],
      "text/markdown": [
       "\n",
       "_source.created | _source.message | \n",
       "|---|---|---|---|---|---|\n",
       "| 2016-12-18T12:10:35.454949019Z                                      | worker:ready Worker started.                                        | \n",
       "| 2016-12-18T12:10:35.058709599Z                                      | worker:ready Worker started.                                        | \n",
       "| 2016-12-18T12:10:35.528087556Z                                      | NA                                                                  | \n",
       "| 2016-12-18T12:10:35.528087556Z                                      | > node app.js                                                       | \n",
       "| 2016-12-18T12:10:35.058709599Z                                      | npm info lifecycle elastic-worker@1.0.0~start: elastic-worker@1.0.0 | \n",
       "| 2016-12-18T12:10:35.528087556Z                                      | > elastic-worker@1.0.0 start /usr/src/app                           | \n",
       "\n",
       "\n"
      ],
      "text/plain": [
       "  _source.created               \n",
       "1 2016-12-18T12:10:35.454949019Z\n",
       "2 2016-12-18T12:10:35.058709599Z\n",
       "3 2016-12-18T12:10:35.528087556Z\n",
       "4 2016-12-18T12:10:35.528087556Z\n",
       "5 2016-12-18T12:10:35.058709599Z\n",
       "6 2016-12-18T12:10:35.528087556Z\n",
       "  _source.message                                                    \n",
       "1 worker:ready Worker started.                                       \n",
       "2 worker:ready Worker started.                                       \n",
       "3 NA                                                                 \n",
       "4 > node app.js                                                      \n",
       "5 npm info lifecycle elastic-worker@1.0.0~start: elastic-worker@1.0.0\n",
       "6 > elastic-worker@1.0.0 start /usr/src/app                          "
      ]
     },
     "metadata": {},
     "output_type": "display_data"
    }
   ],
   "source": [
    "head(jsonData[,c(\"_source.created\",\"_source.message\")])"
   ]
  },
  {
   "cell_type": "code",
   "execution_count": 55,
   "metadata": {
    "collapsed": false
   },
   "outputs": [
    {
     "ename": "ERROR",
     "evalue": "Error in `[.data.frame`(workerStart, , c(\"@timestamp\", \"_source.host\", : undefined columns selected\n",
     "output_type": "error",
     "traceback": [
      "Error in `[.data.frame`(workerStart, , c(\"@timestamp\", \"_source.host\", : undefined columns selected\nTraceback:\n",
      "1. head(workerStart[, c(\"@timestamp\", \"_source.host\", \"_source.message\")])",
      "2. workerStart[, c(\"@timestamp\", \"_source.host\", \"_source.message\")]",
      "3. `[.data.frame`(workerStart, , c(\"@timestamp\", \"_source.host\", \n .     \"_source.message\"))",
      "4. stop(\"undefined columns selected\")"
     ]
    }
   ],
   "source": [
    "workerStart <- jsonData[grep(\"worker:start\", jsonData$\"_source.message\", ignore.case=T),]\n",
    "head(workerStart[,c(\"_source.created\",\"_source.host\",\"_source.message\")])\n",
    "cat(\"N:\", nrow(workerStart))"
   ]
  },
  {
   "cell_type": "code",
   "execution_count": 41,
   "metadata": {
    "collapsed": false
   },
   "outputs": [
    {
     "data": {
      "text/html": [
       "<table>\n",
       "<thead><tr><th></th><th scope=col>_source.created</th><th scope=col>_source.host</th><th scope=col>_source.message</th></tr></thead>\n",
       "<tbody>\n",
       "\t<tr><th scope=row>4178</th><td>2016-12-18T11:08:00.109593474Z                                                         </td><td>node-01                                                                                </td><td>worker:done Finished with task H:CC:S for workflow 08359320-c516-11e6-99c6-755b0ed3b6d2</td></tr>\n",
       "\t<tr><th scope=row>4222</th><td>2016-12-18T11:08:00.254009919Z                                                         </td><td>node-09                                                                                </td><td>worker:done Finished with task H:CC:S for workflow e1c24850-c515-11e6-99c6-755b0ed3b6d2</td></tr>\n",
       "\t<tr><th scope=row>4223</th><td>2016-12-18T11:08:00.109593474Z                                                         </td><td>node-01                                                                                </td><td>worker:done Finished with task G:CC:M for workflow 08359320-c516-11e6-99c6-755b0ed3b6d2</td></tr>\n",
       "\t<tr><th scope=row>4271</th><td>2016-12-18T11:08:00.254009919Z                                                         </td><td>node-09                                                                                </td><td>worker:done Finished with task G:CC:M for workflow e1c24850-c515-11e6-99c6-755b0ed3b6d2</td></tr>\n",
       "\t<tr><th scope=row>4360</th><td>2016-12-18T11:08:00.449816519Z                                                         </td><td>node-09                                                                                </td><td>worker:done Finished with task D:CC:M for workflow 08359320-c516-11e6-99c6-755b0ed3b6d2</td></tr>\n",
       "\t<tr><th scope=row>4368</th><td>2016-12-18T11:08:02.211040263Z                                                         </td><td>node-05                                                                                </td><td>worker:done Finished with task G:CC:S for workflow 1911fb20-c516-11e6-99c6-755b0ed3b6d2</td></tr>\n",
       "</tbody>\n",
       "</table>\n"
      ],
      "text/latex": [
       "\\begin{tabular}{r|lll}\n",
       "  & \\_source.created & \\_source.host & \\_source.message\\\\\n",
       "\\hline\n",
       "\t4178 & 2016-12-18T11:08:00.109593474Z                                                          & node-01                                                                                 & worker:done Finished with task H:CC:S for workflow 08359320-c516-11e6-99c6-755b0ed3b6d2\\\\\n",
       "\t4222 & 2016-12-18T11:08:00.254009919Z                                                          & node-09                                                                                 & worker:done Finished with task H:CC:S for workflow e1c24850-c515-11e6-99c6-755b0ed3b6d2\\\\\n",
       "\t4223 & 2016-12-18T11:08:00.109593474Z                                                          & node-01                                                                                 & worker:done Finished with task G:CC:M for workflow 08359320-c516-11e6-99c6-755b0ed3b6d2\\\\\n",
       "\t4271 & 2016-12-18T11:08:00.254009919Z                                                          & node-09                                                                                 & worker:done Finished with task G:CC:M for workflow e1c24850-c515-11e6-99c6-755b0ed3b6d2\\\\\n",
       "\t4360 & 2016-12-18T11:08:00.449816519Z                                                          & node-09                                                                                 & worker:done Finished with task D:CC:M for workflow 08359320-c516-11e6-99c6-755b0ed3b6d2\\\\\n",
       "\t4368 & 2016-12-18T11:08:02.211040263Z                                                          & node-05                                                                                 & worker:done Finished with task G:CC:S for workflow 1911fb20-c516-11e6-99c6-755b0ed3b6d2\\\\\n",
       "\\end{tabular}\n"
      ],
      "text/markdown": [
       "\n",
       "| <!--/--> | _source.created | _source.host | _source.message | \n",
       "|---|---|---|---|---|---|\n",
       "| 4178 | 2016-12-18T11:08:00.109593474Z                                                          | node-01                                                                                 | worker:done Finished with task H:CC:S for workflow 08359320-c516-11e6-99c6-755b0ed3b6d2 | \n",
       "| 4222 | 2016-12-18T11:08:00.254009919Z                                                          | node-09                                                                                 | worker:done Finished with task H:CC:S for workflow e1c24850-c515-11e6-99c6-755b0ed3b6d2 | \n",
       "| 4223 | 2016-12-18T11:08:00.109593474Z                                                          | node-01                                                                                 | worker:done Finished with task G:CC:M for workflow 08359320-c516-11e6-99c6-755b0ed3b6d2 | \n",
       "| 4271 | 2016-12-18T11:08:00.254009919Z                                                          | node-09                                                                                 | worker:done Finished with task G:CC:M for workflow e1c24850-c515-11e6-99c6-755b0ed3b6d2 | \n",
       "| 4360 | 2016-12-18T11:08:00.449816519Z                                                          | node-09                                                                                 | worker:done Finished with task D:CC:M for workflow 08359320-c516-11e6-99c6-755b0ed3b6d2 | \n",
       "| 4368 | 2016-12-18T11:08:02.211040263Z                                                          | node-05                                                                                 | worker:done Finished with task G:CC:S for workflow 1911fb20-c516-11e6-99c6-755b0ed3b6d2 | \n",
       "\n",
       "\n"
      ],
      "text/plain": [
       "     _source.created                _source.host\n",
       "4178 2016-12-18T11:08:00.109593474Z node-01     \n",
       "4222 2016-12-18T11:08:00.254009919Z node-09     \n",
       "4223 2016-12-18T11:08:00.109593474Z node-01     \n",
       "4271 2016-12-18T11:08:00.254009919Z node-09     \n",
       "4360 2016-12-18T11:08:00.449816519Z node-09     \n",
       "4368 2016-12-18T11:08:02.211040263Z node-05     \n",
       "     _source.message                                                                        \n",
       "4178 worker:done Finished with task H:CC:S for workflow 08359320-c516-11e6-99c6-755b0ed3b6d2\n",
       "4222 worker:done Finished with task H:CC:S for workflow e1c24850-c515-11e6-99c6-755b0ed3b6d2\n",
       "4223 worker:done Finished with task G:CC:M for workflow 08359320-c516-11e6-99c6-755b0ed3b6d2\n",
       "4271 worker:done Finished with task G:CC:M for workflow e1c24850-c515-11e6-99c6-755b0ed3b6d2\n",
       "4360 worker:done Finished with task D:CC:M for workflow 08359320-c516-11e6-99c6-755b0ed3b6d2\n",
       "4368 worker:done Finished with task G:CC:S for workflow 1911fb20-c516-11e6-99c6-755b0ed3b6d2"
      ]
     },
     "metadata": {},
     "output_type": "display_data"
    },
    {
     "name": "stdout",
     "output_type": "stream",
     "text": [
      "N: 436"
     ]
    }
   ],
   "source": [
    "workerDone <- jsonData[grep(\"worker:done\", jsonData$\"_source.message\", ignore.case=T),]\n",
    "head(workerDone[,c(\"_source.created\",\"_source.host\",\"_source.message\")])\n",
    "cat(\"N:\", nrow(workerDone))"
   ]
  },
  {
   "cell_type": "code",
   "execution_count": 50,
   "metadata": {
    "collapsed": true
   },
   "outputs": [],
   "source": [
    "workerStart$start <- 1"
   ]
  },
  {
   "cell_type": "code",
   "execution_count": 51,
   "metadata": {
    "collapsed": true
   },
   "outputs": [],
   "source": [
    "workerStart$time <- as.POSIXlt(workerStart$\"_source.created\", format=\"%Y-%m-%dT%H:%M:%S\", \n",
    "                     origin=\"1970-01-01\",tz=\"GMT\")"
   ]
  },
  {
   "cell_type": "code",
   "execution_count": 54,
   "metadata": {
    "collapsed": false
   },
   "outputs": [
    {
     "data": {
      "text/html": [
       "<table>\n",
       "<thead><tr><th></th><th scope=col>time</th><th scope=col>start</th></tr></thead>\n",
       "<tbody>\n",
       "\t<tr><th scope=row>4221</th><td>2016-12-18 11:08:00</td><td>1                  </td></tr>\n",
       "\t<tr><th scope=row>4270</th><td>2016-12-18 11:08:00</td><td>1                  </td></tr>\n",
       "\t<tr><th scope=row>4359</th><td>2016-12-18 11:08:00</td><td>1                  </td></tr>\n",
       "\t<tr><th scope=row>4414</th><td>2016-12-18 11:08:02</td><td>1                  </td></tr>\n",
       "\t<tr><th scope=row>4419</th><td>2016-12-18 11:08:00</td><td>1                  </td></tr>\n",
       "\t<tr><th scope=row>4423</th><td>2016-12-18 11:08:02</td><td>1                  </td></tr>\n",
       "\t<tr><th scope=row>4424</th><td>2016-12-18 11:07:59</td><td>1                  </td></tr>\n",
       "\t<tr><th scope=row>4428</th><td>2016-12-18 11:08:00</td><td>1                  </td></tr>\n",
       "\t<tr><th scope=row>4523</th><td>2016-12-18 11:07:59</td><td>1                  </td></tr>\n",
       "\t<tr><th scope=row>4527</th><td>2016-12-18 11:07:59</td><td>1                  </td></tr>\n",
       "\t<tr><th scope=row>4568</th><td>2016-12-18 11:08:00</td><td>1                  </td></tr>\n",
       "\t<tr><th scope=row>4574</th><td>2016-12-18 11:08:00</td><td>1                  </td></tr>\n",
       "\t<tr><th scope=row>4577</th><td>2016-12-18 11:07:59</td><td>1                  </td></tr>\n",
       "\t<tr><th scope=row>4578</th><td>2016-12-18 11:07:59</td><td>1                  </td></tr>\n",
       "\t<tr><th scope=row>4581</th><td>2016-12-18 11:08:00</td><td>1                  </td></tr>\n",
       "\t<tr><th scope=row>4582</th><td>2016-12-18 11:07:59</td><td>1                  </td></tr>\n",
       "\t<tr><th scope=row>4583</th><td>2016-12-18 11:07:59</td><td>1                  </td></tr>\n",
       "\t<tr><th scope=row>4585</th><td>2016-12-18 11:07:59</td><td>1                  </td></tr>\n",
       "\t<tr><th scope=row>4586</th><td>2016-12-18 11:08:00</td><td>1                  </td></tr>\n",
       "\t<tr><th scope=row>4587</th><td>2016-12-18 11:08:02</td><td>1                  </td></tr>\n",
       "\t<tr><th scope=row>4629</th><td>2016-12-18 11:08:02</td><td>1                  </td></tr>\n",
       "\t<tr><th scope=row>4634</th><td>2016-12-18 11:08:02</td><td>1                  </td></tr>\n",
       "\t<tr><th scope=row>4675</th><td>2016-12-18 11:08:02</td><td>1                  </td></tr>\n",
       "\t<tr><th scope=row>4681</th><td>2016-12-18 11:08:02</td><td>1                  </td></tr>\n",
       "\t<tr><th scope=row>4689</th><td>2016-12-18 11:08:00</td><td>1                  </td></tr>\n",
       "\t<tr><th scope=row>4710</th><td>2016-12-18 11:08:00</td><td>1                  </td></tr>\n",
       "\t<tr><th scope=row>4711</th><td>2016-12-18 11:08:00</td><td>1                  </td></tr>\n",
       "\t<tr><th scope=row>4723</th><td>2016-12-18 11:07:59</td><td>1                  </td></tr>\n",
       "\t<tr><th scope=row>4724</th><td>2016-12-18 11:08:02</td><td>1                  </td></tr>\n",
       "\t<tr><th scope=row>4725</th><td>2016-12-18 11:08:00</td><td>1                  </td></tr>\n",
       "\t<tr><th scope=row>...</th><td>...</td><td>...</td></tr>\n",
       "\t<tr><th scope=row>10166</th><td>2016-12-18 11:08:00</td><td>1                  </td></tr>\n",
       "\t<tr><th scope=row>10167</th><td>2016-12-18 11:08:00</td><td>1                  </td></tr>\n",
       "\t<tr><th scope=row>10202</th><td>2016-12-18 11:08:00</td><td>1                  </td></tr>\n",
       "\t<tr><th scope=row>10221</th><td>2016-12-18 11:08:01</td><td>1                  </td></tr>\n",
       "\t<tr><th scope=row>10245</th><td>2016-12-18 11:08:00</td><td>1                  </td></tr>\n",
       "\t<tr><th scope=row>10247</th><td>2016-12-18 11:08:00</td><td>1                  </td></tr>\n",
       "\t<tr><th scope=row>10249</th><td>2016-12-18 11:08:02</td><td>1                  </td></tr>\n",
       "\t<tr><th scope=row>10255</th><td>2016-12-18 11:08:00</td><td>1                  </td></tr>\n",
       "\t<tr><th scope=row>10256</th><td>2016-12-18 11:08:00</td><td>1                  </td></tr>\n",
       "\t<tr><th scope=row>10257</th><td>2016-12-18 11:08:00</td><td>1                  </td></tr>\n",
       "\t<tr><th scope=row>10259</th><td>2016-12-18 11:07:59</td><td>1                  </td></tr>\n",
       "\t<tr><th scope=row>10306</th><td>2016-12-18 11:08:00</td><td>1                  </td></tr>\n",
       "\t<tr><th scope=row>10307</th><td>2016-12-18 11:08:00</td><td>1                  </td></tr>\n",
       "\t<tr><th scope=row>10314</th><td>2016-12-18 11:08:00</td><td>1                  </td></tr>\n",
       "\t<tr><th scope=row>10316</th><td>2016-12-18 11:07:59</td><td>1                  </td></tr>\n",
       "\t<tr><th scope=row>10317</th><td>2016-12-18 11:08:00</td><td>1                  </td></tr>\n",
       "\t<tr><th scope=row>10319</th><td>2016-12-18 11:08:00</td><td>1                  </td></tr>\n",
       "\t<tr><th scope=row>10321</th><td>2016-12-18 11:07:59</td><td>1                  </td></tr>\n",
       "\t<tr><th scope=row>10323</th><td>2016-12-18 11:08:02</td><td>1                  </td></tr>\n",
       "\t<tr><th scope=row>10348</th><td>2016-12-18 11:07:59</td><td>1                  </td></tr>\n",
       "\t<tr><th scope=row>10351</th><td>2016-12-18 11:08:02</td><td>1                  </td></tr>\n",
       "\t<tr><th scope=row>10368</th><td>2016-12-18 11:07:59</td><td>1                  </td></tr>\n",
       "\t<tr><th scope=row>10377</th><td>2016-12-18 11:08:00</td><td>1                  </td></tr>\n",
       "\t<tr><th scope=row>10398</th><td>2016-12-18 11:08:00</td><td>1                  </td></tr>\n",
       "\t<tr><th scope=row>10399</th><td>2016-12-18 11:08:00</td><td>1                  </td></tr>\n",
       "\t<tr><th scope=row>10400</th><td>2016-12-18 11:08:02</td><td>1                  </td></tr>\n",
       "\t<tr><th scope=row>10417</th><td>2016-12-18 11:08:00</td><td>1                  </td></tr>\n",
       "\t<tr><th scope=row>10491</th><td>2016-12-18 11:08:00</td><td>1                  </td></tr>\n",
       "\t<tr><th scope=row>10492</th><td>2016-12-18 11:07:59</td><td>1                  </td></tr>\n",
       "\t<tr><th scope=row>10588</th><td>2016-12-18 11:08:02</td><td>1                  </td></tr>\n",
       "</tbody>\n",
       "</table>\n"
      ],
      "text/latex": [
       "\\begin{tabular}{r|ll}\n",
       "  & time & start\\\\\n",
       "\\hline\n",
       "\t4221 & 2016-12-18 11:08:00 & 1                  \\\\\n",
       "\t4270 & 2016-12-18 11:08:00 & 1                  \\\\\n",
       "\t4359 & 2016-12-18 11:08:00 & 1                  \\\\\n",
       "\t4414 & 2016-12-18 11:08:02 & 1                  \\\\\n",
       "\t4419 & 2016-12-18 11:08:00 & 1                  \\\\\n",
       "\t4423 & 2016-12-18 11:08:02 & 1                  \\\\\n",
       "\t4424 & 2016-12-18 11:07:59 & 1                  \\\\\n",
       "\t4428 & 2016-12-18 11:08:00 & 1                  \\\\\n",
       "\t4523 & 2016-12-18 11:07:59 & 1                  \\\\\n",
       "\t4527 & 2016-12-18 11:07:59 & 1                  \\\\\n",
       "\t4568 & 2016-12-18 11:08:00 & 1                  \\\\\n",
       "\t4574 & 2016-12-18 11:08:00 & 1                  \\\\\n",
       "\t4577 & 2016-12-18 11:07:59 & 1                  \\\\\n",
       "\t4578 & 2016-12-18 11:07:59 & 1                  \\\\\n",
       "\t4581 & 2016-12-18 11:08:00 & 1                  \\\\\n",
       "\t4582 & 2016-12-18 11:07:59 & 1                  \\\\\n",
       "\t4583 & 2016-12-18 11:07:59 & 1                  \\\\\n",
       "\t4585 & 2016-12-18 11:07:59 & 1                  \\\\\n",
       "\t4586 & 2016-12-18 11:08:00 & 1                  \\\\\n",
       "\t4587 & 2016-12-18 11:08:02 & 1                  \\\\\n",
       "\t4629 & 2016-12-18 11:08:02 & 1                  \\\\\n",
       "\t4634 & 2016-12-18 11:08:02 & 1                  \\\\\n",
       "\t4675 & 2016-12-18 11:08:02 & 1                  \\\\\n",
       "\t4681 & 2016-12-18 11:08:02 & 1                  \\\\\n",
       "\t4689 & 2016-12-18 11:08:00 & 1                  \\\\\n",
       "\t4710 & 2016-12-18 11:08:00 & 1                  \\\\\n",
       "\t4711 & 2016-12-18 11:08:00 & 1                  \\\\\n",
       "\t4723 & 2016-12-18 11:07:59 & 1                  \\\\\n",
       "\t4724 & 2016-12-18 11:08:02 & 1                  \\\\\n",
       "\t4725 & 2016-12-18 11:08:00 & 1                  \\\\\n",
       "\t... & ... & ...\\\\\n",
       "\t10166 & 2016-12-18 11:08:00 & 1                  \\\\\n",
       "\t10167 & 2016-12-18 11:08:00 & 1                  \\\\\n",
       "\t10202 & 2016-12-18 11:08:00 & 1                  \\\\\n",
       "\t10221 & 2016-12-18 11:08:01 & 1                  \\\\\n",
       "\t10245 & 2016-12-18 11:08:00 & 1                  \\\\\n",
       "\t10247 & 2016-12-18 11:08:00 & 1                  \\\\\n",
       "\t10249 & 2016-12-18 11:08:02 & 1                  \\\\\n",
       "\t10255 & 2016-12-18 11:08:00 & 1                  \\\\\n",
       "\t10256 & 2016-12-18 11:08:00 & 1                  \\\\\n",
       "\t10257 & 2016-12-18 11:08:00 & 1                  \\\\\n",
       "\t10259 & 2016-12-18 11:07:59 & 1                  \\\\\n",
       "\t10306 & 2016-12-18 11:08:00 & 1                  \\\\\n",
       "\t10307 & 2016-12-18 11:08:00 & 1                  \\\\\n",
       "\t10314 & 2016-12-18 11:08:00 & 1                  \\\\\n",
       "\t10316 & 2016-12-18 11:07:59 & 1                  \\\\\n",
       "\t10317 & 2016-12-18 11:08:00 & 1                  \\\\\n",
       "\t10319 & 2016-12-18 11:08:00 & 1                  \\\\\n",
       "\t10321 & 2016-12-18 11:07:59 & 1                  \\\\\n",
       "\t10323 & 2016-12-18 11:08:02 & 1                  \\\\\n",
       "\t10348 & 2016-12-18 11:07:59 & 1                  \\\\\n",
       "\t10351 & 2016-12-18 11:08:02 & 1                  \\\\\n",
       "\t10368 & 2016-12-18 11:07:59 & 1                  \\\\\n",
       "\t10377 & 2016-12-18 11:08:00 & 1                  \\\\\n",
       "\t10398 & 2016-12-18 11:08:00 & 1                  \\\\\n",
       "\t10399 & 2016-12-18 11:08:00 & 1                  \\\\\n",
       "\t10400 & 2016-12-18 11:08:02 & 1                  \\\\\n",
       "\t10417 & 2016-12-18 11:08:00 & 1                  \\\\\n",
       "\t10491 & 2016-12-18 11:08:00 & 1                  \\\\\n",
       "\t10492 & 2016-12-18 11:07:59 & 1                  \\\\\n",
       "\t10588 & 2016-12-18 11:08:02 & 1                  \\\\\n",
       "\\end{tabular}\n"
      ],
      "text/markdown": [
       "\n",
       "| <!--/--> | time | start | \n",
       "|---|---|---|---|---|---|---|---|---|---|---|---|---|---|---|---|---|---|---|---|---|---|---|---|---|---|---|---|---|---|---|---|---|---|---|---|---|---|---|---|---|---|---|---|---|---|---|---|---|---|---|---|---|---|---|---|---|---|---|---|---|\n",
       "| 4221 | 2016-12-18 11:08:00 | 1                   | \n",
       "| 4270 | 2016-12-18 11:08:00 | 1                   | \n",
       "| 4359 | 2016-12-18 11:08:00 | 1                   | \n",
       "| 4414 | 2016-12-18 11:08:02 | 1                   | \n",
       "| 4419 | 2016-12-18 11:08:00 | 1                   | \n",
       "| 4423 | 2016-12-18 11:08:02 | 1                   | \n",
       "| 4424 | 2016-12-18 11:07:59 | 1                   | \n",
       "| 4428 | 2016-12-18 11:08:00 | 1                   | \n",
       "| 4523 | 2016-12-18 11:07:59 | 1                   | \n",
       "| 4527 | 2016-12-18 11:07:59 | 1                   | \n",
       "| 4568 | 2016-12-18 11:08:00 | 1                   | \n",
       "| 4574 | 2016-12-18 11:08:00 | 1                   | \n",
       "| 4577 | 2016-12-18 11:07:59 | 1                   | \n",
       "| 4578 | 2016-12-18 11:07:59 | 1                   | \n",
       "| 4581 | 2016-12-18 11:08:00 | 1                   | \n",
       "| 4582 | 2016-12-18 11:07:59 | 1                   | \n",
       "| 4583 | 2016-12-18 11:07:59 | 1                   | \n",
       "| 4585 | 2016-12-18 11:07:59 | 1                   | \n",
       "| 4586 | 2016-12-18 11:08:00 | 1                   | \n",
       "| 4587 | 2016-12-18 11:08:02 | 1                   | \n",
       "| 4629 | 2016-12-18 11:08:02 | 1                   | \n",
       "| 4634 | 2016-12-18 11:08:02 | 1                   | \n",
       "| 4675 | 2016-12-18 11:08:02 | 1                   | \n",
       "| 4681 | 2016-12-18 11:08:02 | 1                   | \n",
       "| 4689 | 2016-12-18 11:08:00 | 1                   | \n",
       "| 4710 | 2016-12-18 11:08:00 | 1                   | \n",
       "| 4711 | 2016-12-18 11:08:00 | 1                   | \n",
       "| 4723 | 2016-12-18 11:07:59 | 1                   | \n",
       "| 4724 | 2016-12-18 11:08:02 | 1                   | \n",
       "| 4725 | 2016-12-18 11:08:00 | 1                   | \n",
       "| ... | ... | ... | \n",
       "| 10166 | 2016-12-18 11:08:00 | 1                   | \n",
       "| 10167 | 2016-12-18 11:08:00 | 1                   | \n",
       "| 10202 | 2016-12-18 11:08:00 | 1                   | \n",
       "| 10221 | 2016-12-18 11:08:01 | 1                   | \n",
       "| 10245 | 2016-12-18 11:08:00 | 1                   | \n",
       "| 10247 | 2016-12-18 11:08:00 | 1                   | \n",
       "| 10249 | 2016-12-18 11:08:02 | 1                   | \n",
       "| 10255 | 2016-12-18 11:08:00 | 1                   | \n",
       "| 10256 | 2016-12-18 11:08:00 | 1                   | \n",
       "| 10257 | 2016-12-18 11:08:00 | 1                   | \n",
       "| 10259 | 2016-12-18 11:07:59 | 1                   | \n",
       "| 10306 | 2016-12-18 11:08:00 | 1                   | \n",
       "| 10307 | 2016-12-18 11:08:00 | 1                   | \n",
       "| 10314 | 2016-12-18 11:08:00 | 1                   | \n",
       "| 10316 | 2016-12-18 11:07:59 | 1                   | \n",
       "| 10317 | 2016-12-18 11:08:00 | 1                   | \n",
       "| 10319 | 2016-12-18 11:08:00 | 1                   | \n",
       "| 10321 | 2016-12-18 11:07:59 | 1                   | \n",
       "| 10323 | 2016-12-18 11:08:02 | 1                   | \n",
       "| 10348 | 2016-12-18 11:07:59 | 1                   | \n",
       "| 10351 | 2016-12-18 11:08:02 | 1                   | \n",
       "| 10368 | 2016-12-18 11:07:59 | 1                   | \n",
       "| 10377 | 2016-12-18 11:08:00 | 1                   | \n",
       "| 10398 | 2016-12-18 11:08:00 | 1                   | \n",
       "| 10399 | 2016-12-18 11:08:00 | 1                   | \n",
       "| 10400 | 2016-12-18 11:08:02 | 1                   | \n",
       "| 10417 | 2016-12-18 11:08:00 | 1                   | \n",
       "| 10491 | 2016-12-18 11:08:00 | 1                   | \n",
       "| 10492 | 2016-12-18 11:07:59 | 1                   | \n",
       "| 10588 | 2016-12-18 11:08:02 | 1                   | \n",
       "\n",
       "\n"
      ],
      "text/plain": [
       "      time                start\n",
       "4221  2016-12-18 11:08:00 1    \n",
       "4270  2016-12-18 11:08:00 1    \n",
       "4359  2016-12-18 11:08:00 1    \n",
       "4414  2016-12-18 11:08:02 1    \n",
       "4419  2016-12-18 11:08:00 1    \n",
       "4423  2016-12-18 11:08:02 1    \n",
       "4424  2016-12-18 11:07:59 1    \n",
       "4428  2016-12-18 11:08:00 1    \n",
       "4523  2016-12-18 11:07:59 1    \n",
       "4527  2016-12-18 11:07:59 1    \n",
       "4568  2016-12-18 11:08:00 1    \n",
       "4574  2016-12-18 11:08:00 1    \n",
       "4577  2016-12-18 11:07:59 1    \n",
       "4578  2016-12-18 11:07:59 1    \n",
       "4581  2016-12-18 11:08:00 1    \n",
       "4582  2016-12-18 11:07:59 1    \n",
       "4583  2016-12-18 11:07:59 1    \n",
       "4585  2016-12-18 11:07:59 1    \n",
       "4586  2016-12-18 11:08:00 1    \n",
       "4587  2016-12-18 11:08:02 1    \n",
       "4629  2016-12-18 11:08:02 1    \n",
       "4634  2016-12-18 11:08:02 1    \n",
       "4675  2016-12-18 11:08:02 1    \n",
       "4681  2016-12-18 11:08:02 1    \n",
       "4689  2016-12-18 11:08:00 1    \n",
       "4710  2016-12-18 11:08:00 1    \n",
       "4711  2016-12-18 11:08:00 1    \n",
       "4723  2016-12-18 11:07:59 1    \n",
       "4724  2016-12-18 11:08:02 1    \n",
       "4725  2016-12-18 11:08:00 1    \n",
       "...   ...                 ...  \n",
       "10166 2016-12-18 11:08:00 1    \n",
       "10167 2016-12-18 11:08:00 1    \n",
       "10202 2016-12-18 11:08:00 1    \n",
       "10221 2016-12-18 11:08:01 1    \n",
       "10245 2016-12-18 11:08:00 1    \n",
       "10247 2016-12-18 11:08:00 1    \n",
       "10249 2016-12-18 11:08:02 1    \n",
       "10255 2016-12-18 11:08:00 1    \n",
       "10256 2016-12-18 11:08:00 1    \n",
       "10257 2016-12-18 11:08:00 1    \n",
       "10259 2016-12-18 11:07:59 1    \n",
       "10306 2016-12-18 11:08:00 1    \n",
       "10307 2016-12-18 11:08:00 1    \n",
       "10314 2016-12-18 11:08:00 1    \n",
       "10316 2016-12-18 11:07:59 1    \n",
       "10317 2016-12-18 11:08:00 1    \n",
       "10319 2016-12-18 11:08:00 1    \n",
       "10321 2016-12-18 11:07:59 1    \n",
       "10323 2016-12-18 11:08:02 1    \n",
       "10348 2016-12-18 11:07:59 1    \n",
       "10351 2016-12-18 11:08:02 1    \n",
       "10368 2016-12-18 11:07:59 1    \n",
       "10377 2016-12-18 11:08:00 1    \n",
       "10398 2016-12-18 11:08:00 1    \n",
       "10399 2016-12-18 11:08:00 1    \n",
       "10400 2016-12-18 11:08:02 1    \n",
       "10417 2016-12-18 11:08:00 1    \n",
       "10491 2016-12-18 11:08:00 1    \n",
       "10492 2016-12-18 11:07:59 1    \n",
       "10588 2016-12-18 11:08:02 1    "
      ]
     },
     "metadata": {},
     "output_type": "display_data"
    }
   ],
   "source": [
    "workerStart[,c(\"time\",\"start\")]"
   ]
  },
  {
   "cell_type": "code",
   "execution_count": 53,
   "metadata": {
    "collapsed": false
   },
   "outputs": [
    {
     "data": {
      "image/png": "[encoded data removed]",
      "text/plain": [
       "plot without title"
      ]
     },
     "metadata": {},
     "output_type": "display_data"
    }
   ],
   "source": [
    "plot(workerStart$time, workerStart$start)"
   ]
  },
  {
   "cell_type": "code",
   "execution_count": null,
   "metadata": {
    "collapsed": true
   },
   "outputs": [],
   "source": []
  }
 ],
 "metadata": {
  "anaconda-cloud": {},
  "kernelspec": {
   "display_name": "R",
   "language": "R",
   "name": "ir"
  },
  "language_info": {
   "codemirror_mode": "r",
   "file_extension": ".r",
   "mimetype": "text/x-r-source",
   "name": "R",
   "pygments_lexer": "r",
   "version": "3.3.2"
  }
 },
 "nbformat": 4,
 "nbformat_minor": 1
}
